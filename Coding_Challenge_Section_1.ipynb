{
 "cells": [
  {
   "cell_type": "markdown",
   "metadata": {},
   "source": [
    "## Importing packages"
   ]
  },
  {
   "cell_type": "code",
   "execution_count": 1,
   "metadata": {},
   "outputs": [],
   "source": [
    "import pandas as pd\n",
    "import numpy as np\n",
    "import matplotlib.pyplot as plt\n",
    "import yfinance as yf"
   ]
  },
  {
   "cell_type": "markdown",
   "metadata": {},
   "source": [
    "## Importing the Dataset\n",
    "We will import the dataset, print its shape as well as few rows."
   ]
  },
  {
   "cell_type": "code",
   "execution_count": 2,
   "metadata": {},
   "outputs": [
    {
     "name": "stdout",
     "output_type": "stream",
     "text": [
      "(2426196, 14)\n"
     ]
    },
    {
     "data": {
      "text/html": [
       "<div>\n",
       "<style scoped>\n",
       "    .dataframe tbody tr th:only-of-type {\n",
       "        vertical-align: middle;\n",
       "    }\n",
       "\n",
       "    .dataframe tbody tr th {\n",
       "        vertical-align: top;\n",
       "    }\n",
       "\n",
       "    .dataframe thead th {\n",
       "        text-align: right;\n",
       "    }\n",
       "</style>\n",
       "<table border=\"1\" class=\"dataframe\">\n",
       "  <thead>\n",
       "    <tr style=\"text-align: right;\">\n",
       "      <th></th>\n",
       "      <th>dataset_id</th>\n",
       "      <th>as_of_date</th>\n",
       "      <th>company_name</th>\n",
       "      <th>followers_count</th>\n",
       "      <th>employees_on_platform</th>\n",
       "      <th>link</th>\n",
       "      <th>industry</th>\n",
       "      <th>date_added</th>\n",
       "      <th>date_updated</th>\n",
       "      <th>description</th>\n",
       "      <th>website</th>\n",
       "      <th>entity_id</th>\n",
       "      <th>cusip</th>\n",
       "      <th>isin</th>\n",
       "    </tr>\n",
       "  </thead>\n",
       "  <tbody>\n",
       "    <tr>\n",
       "      <th>0</th>\n",
       "      <td>58329</td>\n",
       "      <td>2015-09-14</td>\n",
       "      <td>Goldman Sachs</td>\n",
       "      <td>552254</td>\n",
       "      <td>38124</td>\n",
       "      <td>https://www.linkedin.com/company/1382</td>\n",
       "      <td>Investment Banking</td>\n",
       "      <td>2015-09-14 00:00:00+00</td>\n",
       "      <td>2015-09-14 00:00:00+00</td>\n",
       "      <td>NaN</td>\n",
       "      <td>NaN</td>\n",
       "      <td>NaN</td>\n",
       "      <td>NaN</td>\n",
       "      <td>NaN</td>\n",
       "    </tr>\n",
       "    <tr>\n",
       "      <th>1</th>\n",
       "      <td>58329</td>\n",
       "      <td>2015-09-15</td>\n",
       "      <td>Goldman Sachs</td>\n",
       "      <td>552862</td>\n",
       "      <td>38141</td>\n",
       "      <td>https://www.linkedin.com/company/1382</td>\n",
       "      <td>Investment Banking</td>\n",
       "      <td>2015-09-15 00:00:00+00</td>\n",
       "      <td>2015-09-15 00:00:00+00</td>\n",
       "      <td>NaN</td>\n",
       "      <td>NaN</td>\n",
       "      <td>NaN</td>\n",
       "      <td>NaN</td>\n",
       "      <td>NaN</td>\n",
       "    </tr>\n",
       "    <tr>\n",
       "      <th>2</th>\n",
       "      <td>58363</td>\n",
       "      <td>2015-09-16</td>\n",
       "      <td>United Technologies</td>\n",
       "      <td>59157</td>\n",
       "      <td>14982</td>\n",
       "      <td>https://www.linkedin.com/company/2426</td>\n",
       "      <td>Aviation &amp; Aerospace</td>\n",
       "      <td>2015-09-16 00:00:00+00</td>\n",
       "      <td>2015-09-16 00:00:00+00</td>\n",
       "      <td>NaN</td>\n",
       "      <td>NaN</td>\n",
       "      <td>NaN</td>\n",
       "      <td>NaN</td>\n",
       "      <td>NaN</td>\n",
       "    </tr>\n",
       "  </tbody>\n",
       "</table>\n",
       "</div>"
      ],
      "text/plain": [
       "   dataset_id  as_of_date         company_name  followers_count  \\\n",
       "0       58329  2015-09-14        Goldman Sachs           552254   \n",
       "1       58329  2015-09-15        Goldman Sachs           552862   \n",
       "2       58363  2015-09-16  United Technologies            59157   \n",
       "\n",
       "   employees_on_platform                                   link  \\\n",
       "0                  38124  https://www.linkedin.com/company/1382   \n",
       "1                  38141  https://www.linkedin.com/company/1382   \n",
       "2                  14982  https://www.linkedin.com/company/2426   \n",
       "\n",
       "               industry              date_added            date_updated  \\\n",
       "0    Investment Banking  2015-09-14 00:00:00+00  2015-09-14 00:00:00+00   \n",
       "1    Investment Banking  2015-09-15 00:00:00+00  2015-09-15 00:00:00+00   \n",
       "2  Aviation & Aerospace  2015-09-16 00:00:00+00  2015-09-16 00:00:00+00   \n",
       "\n",
       "  description website  entity_id  cusip  isin  \n",
       "0         NaN     NaN        NaN    NaN   NaN  \n",
       "1         NaN     NaN        NaN    NaN   NaN  \n",
       "2         NaN     NaN        NaN    NaN   NaN  "
      ]
     },
     "execution_count": 2,
     "metadata": {},
     "output_type": "execute_result"
    }
   ],
   "source": [
    "dataset = pd.read_csv('temp_datalab_records_linkedin_company.csv',low_memory=False)\n",
    "print(dataset.shape)\n",
    "dataset.head(3)"
   ]
  },
  {
   "cell_type": "markdown",
   "metadata": {},
   "source": [
    "## Extracting the desired columns\n",
    "We below extract the columns that will help us towards our data analysis. We reprint the data shape and few rows."
   ]
  },
  {
   "cell_type": "code",
   "execution_count": 3,
   "metadata": {},
   "outputs": [
    {
     "name": "stdout",
     "output_type": "stream",
     "text": [
      "(2426196, 6)\n"
     ]
    },
    {
     "data": {
      "text/html": [
       "<div>\n",
       "<style scoped>\n",
       "    .dataframe tbody tr th:only-of-type {\n",
       "        vertical-align: middle;\n",
       "    }\n",
       "\n",
       "    .dataframe tbody tr th {\n",
       "        vertical-align: top;\n",
       "    }\n",
       "\n",
       "    .dataframe thead th {\n",
       "        text-align: right;\n",
       "    }\n",
       "</style>\n",
       "<table border=\"1\" class=\"dataframe\">\n",
       "  <thead>\n",
       "    <tr style=\"text-align: right;\">\n",
       "      <th></th>\n",
       "      <th>dataset_id</th>\n",
       "      <th>as_of_date</th>\n",
       "      <th>company_name</th>\n",
       "      <th>followers_count</th>\n",
       "      <th>employees_on_platform</th>\n",
       "      <th>industry</th>\n",
       "    </tr>\n",
       "  </thead>\n",
       "  <tbody>\n",
       "    <tr>\n",
       "      <th>0</th>\n",
       "      <td>58329</td>\n",
       "      <td>2015-09-14</td>\n",
       "      <td>Goldman Sachs</td>\n",
       "      <td>552254</td>\n",
       "      <td>38124</td>\n",
       "      <td>Investment Banking</td>\n",
       "    </tr>\n",
       "    <tr>\n",
       "      <th>1</th>\n",
       "      <td>58329</td>\n",
       "      <td>2015-09-15</td>\n",
       "      <td>Goldman Sachs</td>\n",
       "      <td>552862</td>\n",
       "      <td>38141</td>\n",
       "      <td>Investment Banking</td>\n",
       "    </tr>\n",
       "    <tr>\n",
       "      <th>2</th>\n",
       "      <td>58363</td>\n",
       "      <td>2015-09-16</td>\n",
       "      <td>United Technologies</td>\n",
       "      <td>59157</td>\n",
       "      <td>14982</td>\n",
       "      <td>Aviation &amp; Aerospace</td>\n",
       "    </tr>\n",
       "  </tbody>\n",
       "</table>\n",
       "</div>"
      ],
      "text/plain": [
       "   dataset_id  as_of_date         company_name  followers_count  \\\n",
       "0       58329  2015-09-14        Goldman Sachs           552254   \n",
       "1       58329  2015-09-15        Goldman Sachs           552862   \n",
       "2       58363  2015-09-16  United Technologies            59157   \n",
       "\n",
       "   employees_on_platform              industry  \n",
       "0                  38124    Investment Banking  \n",
       "1                  38141    Investment Banking  \n",
       "2                  14982  Aviation & Aerospace  "
      ]
     },
     "execution_count": 3,
     "metadata": {},
     "output_type": "execute_result"
    }
   ],
   "source": [
    "dataset = pd.read_csv('temp_datalab_records_linkedin_company.csv',usecols=[0,1,2,3,4,6])\n",
    "print(dataset.shape)\n",
    "dataset.head(3)"
   ]
  },
  {
   "cell_type": "markdown",
   "metadata": {},
   "source": [
    "## Plotting the Data\n",
    "Next we find a total count of the industry and plot the top 50 industries (on x-axis) vs its total count of entries (i.e., rows) in the dataset (on y-axis). "
   ]
  },
  {
   "cell_type": "code",
   "execution_count": 4,
   "metadata": {
    "scrolled": true
   },
   "outputs": [
    {
     "name": "stdout",
     "output_type": "stream",
     "text": [
      "The dataset has data for a total of  140 industries\n"
     ]
    },
    {
     "data": {
      "image/png": "[encoded data removed]",
      "text/plain": [
       "<Figure size 720x288 with 1 Axes>"
      ]
     },
     "metadata": {
      "needs_background": "light"
     },
     "output_type": "display_data"
    }
   ],
   "source": [
    "countIndustry = dataset['industry'].nunique()\n",
    "print(\"The dataset has data for a total of \",countIndustry, \"industries\")\n",
    "industryDist = dataset['industry'].value_counts()\n",
    "industryDist.iloc[:50,].plot.bar(figsize=(10, 4))\n",
    "plt.show()"
   ]
  },
  {
   "cell_type": "markdown",
   "metadata": {},
   "source": [
    "## Filtering the data for a particular industry\n",
    "We now filter the dataset and extract only the data for 'Banking' sector. We find a total count of the Banks and plot the top 50 Banks on x-axis vs its total count of entries (i.e., rows) on y-axis. "
   ]
  },
  {
   "cell_type": "code",
   "execution_count": 5,
   "metadata": {},
   "outputs": [
    {
     "name": "stdout",
     "output_type": "stream",
     "text": [
      "The Dataset set has data for a total of  335  banks.\n"
     ]
    },
    {
     "data": {
      "image/png": "[encoded data removed]",
      "text/plain": [
       "<Figure size 720x288 with 1 Axes>"
      ]
     },
     "metadata": {
      "needs_background": "light"
     },
     "output_type": "display_data"
    }
   ],
   "source": [
    "isBanking = dataset[dataset['industry']=='Banking']\n",
    "countBanks = isBanking['company_name'].nunique()\n",
    "print(\"The Dataset set has data for a total of \" , countBanks , \" banks.\")\n",
    "BankDist = isBanking['company_name'].value_counts()\n",
    "BankDist.iloc[:50,].plot.bar(figsize=(10, 4))\n",
    "plt.show()"
   ]
  },
  {
   "cell_type": "markdown",
   "metadata": {},
   "source": [
    "## Extracting an individual company's data for analysis \n",
    "Let's extract the data for 'Pinnacle Financial Partners' only for further analysis. We can do the same analysis for any other company by JUST changing 'Pinnacle Financial Partners' to that company's name as mentioned in the company_name column in the first line of code below."
   ]
  },
  {
   "cell_type": "code",
   "execution_count": 6,
   "metadata": {},
   "outputs": [
    {
     "data": {
      "text/html": [
       "<div>\n",
       "<style scoped>\n",
       "    .dataframe tbody tr th:only-of-type {\n",
       "        vertical-align: middle;\n",
       "    }\n",
       "\n",
       "    .dataframe tbody tr th {\n",
       "        vertical-align: top;\n",
       "    }\n",
       "\n",
       "    .dataframe thead th {\n",
       "        text-align: right;\n",
       "    }\n",
       "</style>\n",
       "<table border=\"1\" class=\"dataframe\">\n",
       "  <thead>\n",
       "    <tr style=\"text-align: right;\">\n",
       "      <th></th>\n",
       "      <th>dataset_id</th>\n",
       "      <th>as_of_date</th>\n",
       "      <th>company_name</th>\n",
       "      <th>followers_count</th>\n",
       "      <th>employees_on_platform</th>\n",
       "      <th>industry</th>\n",
       "    </tr>\n",
       "  </thead>\n",
       "  <tbody>\n",
       "    <tr>\n",
       "      <th>0</th>\n",
       "      <td>59128</td>\n",
       "      <td>2015-09-21</td>\n",
       "      <td>Pinnacle Financial Partners</td>\n",
       "      <td>1672</td>\n",
       "      <td>387</td>\n",
       "      <td>Banking</td>\n",
       "    </tr>\n",
       "    <tr>\n",
       "      <th>1</th>\n",
       "      <td>59128</td>\n",
       "      <td>2015-09-22</td>\n",
       "      <td>Pinnacle Financial Partners</td>\n",
       "      <td>1673</td>\n",
       "      <td>387</td>\n",
       "      <td>Banking</td>\n",
       "    </tr>\n",
       "    <tr>\n",
       "      <th>2</th>\n",
       "      <td>59128</td>\n",
       "      <td>2015-09-23</td>\n",
       "      <td>Pinnacle Financial Partners</td>\n",
       "      <td>1676</td>\n",
       "      <td>387</td>\n",
       "      <td>Banking</td>\n",
       "    </tr>\n",
       "    <tr>\n",
       "      <th>3</th>\n",
       "      <td>59128</td>\n",
       "      <td>2015-09-24</td>\n",
       "      <td>Pinnacle Financial Partners</td>\n",
       "      <td>1678</td>\n",
       "      <td>387</td>\n",
       "      <td>Banking</td>\n",
       "    </tr>\n",
       "    <tr>\n",
       "      <th>4</th>\n",
       "      <td>59128</td>\n",
       "      <td>2015-09-25</td>\n",
       "      <td>Pinnacle Financial Partners</td>\n",
       "      <td>1679</td>\n",
       "      <td>387</td>\n",
       "      <td>Banking</td>\n",
       "    </tr>\n",
       "  </tbody>\n",
       "</table>\n",
       "</div>"
      ],
      "text/plain": [
       "   dataset_id  as_of_date                 company_name  followers_count  \\\n",
       "0       59128  2015-09-21  Pinnacle Financial Partners             1672   \n",
       "1       59128  2015-09-22  Pinnacle Financial Partners             1673   \n",
       "2       59128  2015-09-23  Pinnacle Financial Partners             1676   \n",
       "3       59128  2015-09-24  Pinnacle Financial Partners             1678   \n",
       "4       59128  2015-09-25  Pinnacle Financial Partners             1679   \n",
       "\n",
       "   employees_on_platform industry  \n",
       "0                    387  Banking  \n",
       "1                    387  Banking  \n",
       "2                    387  Banking  \n",
       "3                    387  Banking  \n",
       "4                    387  Banking  "
      ]
     },
     "execution_count": 6,
     "metadata": {},
     "output_type": "execute_result"
    }
   ],
   "source": [
    "compName = dataset[dataset['company_name']=='Pinnacle Financial Partners']\n",
    "compName['company_name'].value_counts()\n",
    "compName = compName.reset_index(drop=True)\n",
    "compName.head()"
   ]
  },
  {
   "cell_type": "markdown",
   "metadata": {},
   "source": [
    "## Processing the dates"
   ]
  },
  {
   "cell_type": "code",
   "execution_count": 7,
   "metadata": {},
   "outputs": [],
   "source": [
    "compName.loc[:, 'as_of_date'] =  pd.to_datetime(compName['as_of_date'])\n",
    "compName.loc[:, 'Year'] = compName['as_of_date'].dt.year\n",
    "compName.loc[:, 'Month'] = compName['as_of_date'].dt.month\n",
    "compName.loc[:, 'day'] = compName['as_of_date'].dt.day"
   ]
  },
  {
   "cell_type": "code",
   "execution_count": 8,
   "metadata": {},
   "outputs": [
    {
     "name": "stdout",
     "output_type": "stream",
     "text": [
      "(1017, 9)\n"
     ]
    },
    {
     "data": {
      "text/html": [
       "<div>\n",
       "<style scoped>\n",
       "    .dataframe tbody tr th:only-of-type {\n",
       "        vertical-align: middle;\n",
       "    }\n",
       "\n",
       "    .dataframe tbody tr th {\n",
       "        vertical-align: top;\n",
       "    }\n",
       "\n",
       "    .dataframe thead th {\n",
       "        text-align: right;\n",
       "    }\n",
       "</style>\n",
       "<table border=\"1\" class=\"dataframe\">\n",
       "  <thead>\n",
       "    <tr style=\"text-align: right;\">\n",
       "      <th></th>\n",
       "      <th>dataset_id</th>\n",
       "      <th>as_of_date</th>\n",
       "      <th>company_name</th>\n",
       "      <th>followers_count</th>\n",
       "      <th>employees_on_platform</th>\n",
       "      <th>industry</th>\n",
       "      <th>Year</th>\n",
       "      <th>Month</th>\n",
       "      <th>day</th>\n",
       "    </tr>\n",
       "  </thead>\n",
       "  <tbody>\n",
       "    <tr>\n",
       "      <th>0</th>\n",
       "      <td>59128</td>\n",
       "      <td>2015-09-21</td>\n",
       "      <td>Pinnacle Financial Partners</td>\n",
       "      <td>1672</td>\n",
       "      <td>387</td>\n",
       "      <td>Banking</td>\n",
       "      <td>2015</td>\n",
       "      <td>9</td>\n",
       "      <td>21</td>\n",
       "    </tr>\n",
       "    <tr>\n",
       "      <th>1</th>\n",
       "      <td>59128</td>\n",
       "      <td>2015-09-22</td>\n",
       "      <td>Pinnacle Financial Partners</td>\n",
       "      <td>1673</td>\n",
       "      <td>387</td>\n",
       "      <td>Banking</td>\n",
       "      <td>2015</td>\n",
       "      <td>9</td>\n",
       "      <td>22</td>\n",
       "    </tr>\n",
       "    <tr>\n",
       "      <th>2</th>\n",
       "      <td>59128</td>\n",
       "      <td>2015-09-23</td>\n",
       "      <td>Pinnacle Financial Partners</td>\n",
       "      <td>1676</td>\n",
       "      <td>387</td>\n",
       "      <td>Banking</td>\n",
       "      <td>2015</td>\n",
       "      <td>9</td>\n",
       "      <td>23</td>\n",
       "    </tr>\n",
       "  </tbody>\n",
       "</table>\n",
       "</div>"
      ],
      "text/plain": [
       "   dataset_id as_of_date                 company_name  followers_count  \\\n",
       "0       59128 2015-09-21  Pinnacle Financial Partners             1672   \n",
       "1       59128 2015-09-22  Pinnacle Financial Partners             1673   \n",
       "2       59128 2015-09-23  Pinnacle Financial Partners             1676   \n",
       "\n",
       "   employees_on_platform industry  Year  Month  day  \n",
       "0                    387  Banking  2015      9   21  \n",
       "1                    387  Banking  2015      9   22  \n",
       "2                    387  Banking  2015      9   23  "
      ]
     },
     "execution_count": 8,
     "metadata": {},
     "output_type": "execute_result"
    }
   ],
   "source": [
    "import datetime\n",
    "compName['as_of_date'].max()\n",
    "may_1_2016 = datetime.datetime(2016, 5, 1)\n",
    "print(compName.shape)\n",
    "compName.head(3)"
   ]
  },
  {
   "cell_type": "markdown",
   "metadata": {},
   "source": [
    "We add below a new column by concatenating the 'Year' and 'Month' column."
   ]
  },
  {
   "cell_type": "code",
   "execution_count": 9,
   "metadata": {},
   "outputs": [
    {
     "data": {
      "text/html": [
       "<div>\n",
       "<style scoped>\n",
       "    .dataframe tbody tr th:only-of-type {\n",
       "        vertical-align: middle;\n",
       "    }\n",
       "\n",
       "    .dataframe tbody tr th {\n",
       "        vertical-align: top;\n",
       "    }\n",
       "\n",
       "    .dataframe thead th {\n",
       "        text-align: right;\n",
       "    }\n",
       "</style>\n",
       "<table border=\"1\" class=\"dataframe\">\n",
       "  <thead>\n",
       "    <tr style=\"text-align: right;\">\n",
       "      <th></th>\n",
       "      <th>dataset_id</th>\n",
       "      <th>as_of_date</th>\n",
       "      <th>company_name</th>\n",
       "      <th>followers_count</th>\n",
       "      <th>employees_on_platform</th>\n",
       "      <th>industry</th>\n",
       "      <th>Year</th>\n",
       "      <th>Month</th>\n",
       "      <th>day</th>\n",
       "      <th>New_column</th>\n",
       "    </tr>\n",
       "  </thead>\n",
       "  <tbody>\n",
       "    <tr>\n",
       "      <th>0</th>\n",
       "      <td>59128</td>\n",
       "      <td>2015-09-21</td>\n",
       "      <td>Pinnacle Financial Partners</td>\n",
       "      <td>1672</td>\n",
       "      <td>387</td>\n",
       "      <td>Banking</td>\n",
       "      <td>2015</td>\n",
       "      <td>09</td>\n",
       "      <td>21</td>\n",
       "      <td>2015-09</td>\n",
       "    </tr>\n",
       "    <tr>\n",
       "      <th>1</th>\n",
       "      <td>59128</td>\n",
       "      <td>2015-09-22</td>\n",
       "      <td>Pinnacle Financial Partners</td>\n",
       "      <td>1673</td>\n",
       "      <td>387</td>\n",
       "      <td>Banking</td>\n",
       "      <td>2015</td>\n",
       "      <td>09</td>\n",
       "      <td>22</td>\n",
       "      <td>2015-09</td>\n",
       "    </tr>\n",
       "    <tr>\n",
       "      <th>2</th>\n",
       "      <td>59128</td>\n",
       "      <td>2015-09-23</td>\n",
       "      <td>Pinnacle Financial Partners</td>\n",
       "      <td>1676</td>\n",
       "      <td>387</td>\n",
       "      <td>Banking</td>\n",
       "      <td>2015</td>\n",
       "      <td>09</td>\n",
       "      <td>23</td>\n",
       "      <td>2015-09</td>\n",
       "    </tr>\n",
       "  </tbody>\n",
       "</table>\n",
       "</div>"
      ],
      "text/plain": [
       "   dataset_id as_of_date                 company_name  followers_count  \\\n",
       "0       59128 2015-09-21  Pinnacle Financial Partners             1672   \n",
       "1       59128 2015-09-22  Pinnacle Financial Partners             1673   \n",
       "2       59128 2015-09-23  Pinnacle Financial Partners             1676   \n",
       "\n",
       "   employees_on_platform industry  Year Month  day New_column  \n",
       "0                    387  Banking  2015    09   21    2015-09  \n",
       "1                    387  Banking  2015    09   22    2015-09  \n",
       "2                    387  Banking  2015    09   23    2015-09  "
      ]
     },
     "execution_count": 9,
     "metadata": {},
     "output_type": "execute_result"
    }
   ],
   "source": [
    "compName['Year'] = compName['Year'].astype(str).str.zfill(4)\n",
    "compName['Month'] = compName['Month'].astype(str).str.zfill(2)\n",
    "compName['New_column'] = compName[['Year','Month']].apply('-'.join, axis=1)\n",
    "compName.head(3)"
   ]
  },
  {
   "cell_type": "markdown",
   "metadata": {},
   "source": [
    "## Plotting the trends\n",
    "We next plot the count of employees on the platform against the 'Year-Month' on primary y-axis while the count of followers on secondary y-axis."
   ]
  },
  {
   "cell_type": "code",
   "execution_count": 10,
   "metadata": {},
   "outputs": [
    {
     "data": {
      "text/plain": [
       "Text(0.5, 0, 'Year-Month')"
      ]
     },
     "execution_count": 10,
     "metadata": {},
     "output_type": "execute_result"
    },
    {
     "data": {
      "image/png": "[encoded data removed]",
      "text/plain": [
       "<Figure size 1080x360 with 2 Axes>"
      ]
     },
     "metadata": {
      "needs_background": "light"
     },
     "output_type": "display_data"
    }
   ],
   "source": [
    "fig, ax = plt.subplots()\n",
    "compName.plot(ax=ax, x='New_column', y='employees_on_platform',figsize=(15,5), grid=True)\n",
    "compName.plot(ax=ax, x='New_column', y='followers_count',secondary_y=True, figsize=(15,5), grid=True)\n",
    "ax.set_ylabel('Count of Employees on Platform')\n",
    "ax.set_xlabel('Year-Month')"
   ]
  },
  {
   "cell_type": "markdown",
   "metadata": {},
   "source": [
    "## Stock Analysis\n",
    "We next do stock analysis for the chosen company based on its historical stock price data."
   ]
  },
  {
   "cell_type": "code",
   "execution_count": 11,
   "metadata": {},
   "outputs": [
    {
     "data": {
      "text/html": [
       "<div>\n",
       "<style scoped>\n",
       "    .dataframe tbody tr th:only-of-type {\n",
       "        vertical-align: middle;\n",
       "    }\n",
       "\n",
       "    .dataframe tbody tr th {\n",
       "        vertical-align: top;\n",
       "    }\n",
       "\n",
       "    .dataframe thead th {\n",
       "        text-align: right;\n",
       "    }\n",
       "</style>\n",
       "<table border=\"1\" class=\"dataframe\">\n",
       "  <thead>\n",
       "    <tr style=\"text-align: right;\">\n",
       "      <th></th>\n",
       "      <th>dataset_id</th>\n",
       "      <th>as_of_date</th>\n",
       "      <th>company_name</th>\n",
       "      <th>followers_count</th>\n",
       "      <th>employees_on_platform</th>\n",
       "      <th>industry</th>\n",
       "      <th>Year</th>\n",
       "      <th>Month</th>\n",
       "      <th>day</th>\n",
       "      <th>New_column</th>\n",
       "    </tr>\n",
       "  </thead>\n",
       "  <tbody>\n",
       "    <tr>\n",
       "      <th>0</th>\n",
       "      <td>59128</td>\n",
       "      <td>2015-09-21</td>\n",
       "      <td>Pinnacle Financial Partners</td>\n",
       "      <td>1672</td>\n",
       "      <td>387</td>\n",
       "      <td>Banking</td>\n",
       "      <td>2015</td>\n",
       "      <td>09</td>\n",
       "      <td>21</td>\n",
       "      <td>2015-09</td>\n",
       "    </tr>\n",
       "    <tr>\n",
       "      <th>1</th>\n",
       "      <td>59128</td>\n",
       "      <td>2015-09-22</td>\n",
       "      <td>Pinnacle Financial Partners</td>\n",
       "      <td>1673</td>\n",
       "      <td>387</td>\n",
       "      <td>Banking</td>\n",
       "      <td>2015</td>\n",
       "      <td>09</td>\n",
       "      <td>22</td>\n",
       "      <td>2015-09</td>\n",
       "    </tr>\n",
       "    <tr>\n",
       "      <th>2</th>\n",
       "      <td>59128</td>\n",
       "      <td>2015-09-23</td>\n",
       "      <td>Pinnacle Financial Partners</td>\n",
       "      <td>1676</td>\n",
       "      <td>387</td>\n",
       "      <td>Banking</td>\n",
       "      <td>2015</td>\n",
       "      <td>09</td>\n",
       "      <td>23</td>\n",
       "      <td>2015-09</td>\n",
       "    </tr>\n",
       "  </tbody>\n",
       "</table>\n",
       "</div>"
      ],
      "text/plain": [
       "   dataset_id as_of_date                 company_name  followers_count  \\\n",
       "0       59128 2015-09-21  Pinnacle Financial Partners             1672   \n",
       "1       59128 2015-09-22  Pinnacle Financial Partners             1673   \n",
       "2       59128 2015-09-23  Pinnacle Financial Partners             1676   \n",
       "\n",
       "   employees_on_platform industry  Year Month  day New_column  \n",
       "0                    387  Banking  2015    09   21    2015-09  \n",
       "1                    387  Banking  2015    09   22    2015-09  \n",
       "2                    387  Banking  2015    09   23    2015-09  "
      ]
     },
     "execution_count": 11,
     "metadata": {},
     "output_type": "execute_result"
    }
   ],
   "source": [
    "compName.sort_values(by=['as_of_date'])\n",
    "compName = compName.reset_index(drop=True)\n",
    "compName.head(3)"
   ]
  },
  {
   "cell_type": "markdown",
   "metadata": {},
   "source": [
    "### Downloading the stocks\n",
    "We download the stock price history for a longer duration. This is, if we want to change the name of the company, or if we want to do analysis for a longer period of time (extended data) later, we will not need to modify the code."
   ]
  },
  {
   "cell_type": "code",
   "execution_count": 12,
   "metadata": {},
   "outputs": [
    {
     "name": "stdout",
     "output_type": "stream",
     "text": [
      "[*********************100%***********************]  1 of 1 completed\n"
     ]
    },
    {
     "data": {
      "text/html": [
       "<div>\n",
       "<style scoped>\n",
       "    .dataframe tbody tr th:only-of-type {\n",
       "        vertical-align: middle;\n",
       "    }\n",
       "\n",
       "    .dataframe tbody tr th {\n",
       "        vertical-align: top;\n",
       "    }\n",
       "\n",
       "    .dataframe thead th {\n",
       "        text-align: right;\n",
       "    }\n",
       "</style>\n",
       "<table border=\"1\" class=\"dataframe\">\n",
       "  <thead>\n",
       "    <tr style=\"text-align: right;\">\n",
       "      <th></th>\n",
       "      <th>Open</th>\n",
       "      <th>High</th>\n",
       "      <th>Low</th>\n",
       "      <th>Close</th>\n",
       "      <th>Adj Close</th>\n",
       "      <th>Volume</th>\n",
       "      <th>Date</th>\n",
       "    </tr>\n",
       "  </thead>\n",
       "  <tbody>\n",
       "    <tr>\n",
       "      <th>0</th>\n",
       "      <td>32.810001</td>\n",
       "      <td>32.970001</td>\n",
       "      <td>32.500000</td>\n",
       "      <td>32.529999</td>\n",
       "      <td>30.437090</td>\n",
       "      <td>90600</td>\n",
       "      <td>2013-12-31</td>\n",
       "    </tr>\n",
       "    <tr>\n",
       "      <th>1</th>\n",
       "      <td>32.500000</td>\n",
       "      <td>32.650002</td>\n",
       "      <td>31.750000</td>\n",
       "      <td>31.860001</td>\n",
       "      <td>29.810198</td>\n",
       "      <td>147900</td>\n",
       "      <td>2014-01-02</td>\n",
       "    </tr>\n",
       "    <tr>\n",
       "      <th>2</th>\n",
       "      <td>31.860001</td>\n",
       "      <td>32.139999</td>\n",
       "      <td>31.790001</td>\n",
       "      <td>31.969999</td>\n",
       "      <td>29.913118</td>\n",
       "      <td>70100</td>\n",
       "      <td>2014-01-03</td>\n",
       "    </tr>\n",
       "  </tbody>\n",
       "</table>\n",
       "</div>"
      ],
      "text/plain": [
       "        Open       High        Low      Close  Adj Close  Volume       Date\n",
       "0  32.810001  32.970001  32.500000  32.529999  30.437090   90600 2013-12-31\n",
       "1  32.500000  32.650002  31.750000  31.860001  29.810198  147900 2014-01-02\n",
       "2  31.860001  32.139999  31.790001  31.969999  29.913118   70100 2014-01-03"
      ]
     },
     "execution_count": 12,
     "metadata": {},
     "output_type": "execute_result"
    }
   ],
   "source": [
    "stock = yf.download(\"PNFP\", start='2014-01-01', end='2019-12-31')\n",
    "stock['Date'] = stock.index\n",
    "stock = stock.reset_index(drop=True)\n",
    "stock.head(3)"
   ]
  },
  {
   "cell_type": "markdown",
   "metadata": {},
   "source": [
    "## Merging the data\n",
    "We next merge the closing price of the stock from the downloaded data with the selected columns from our dataset based on data."
   ]
  },
  {
   "cell_type": "code",
   "execution_count": 13,
   "metadata": {},
   "outputs": [
    {
     "data": {
      "text/html": [
       "<div>\n",
       "<style scoped>\n",
       "    .dataframe tbody tr th:only-of-type {\n",
       "        vertical-align: middle;\n",
       "    }\n",
       "\n",
       "    .dataframe tbody tr th {\n",
       "        vertical-align: top;\n",
       "    }\n",
       "\n",
       "    .dataframe thead th {\n",
       "        text-align: right;\n",
       "    }\n",
       "</style>\n",
       "<table border=\"1\" class=\"dataframe\">\n",
       "  <thead>\n",
       "    <tr style=\"text-align: right;\">\n",
       "      <th></th>\n",
       "      <th>Date</th>\n",
       "      <th>followers_count</th>\n",
       "      <th>employees_on_platform</th>\n",
       "      <th>Close</th>\n",
       "    </tr>\n",
       "  </thead>\n",
       "  <tbody>\n",
       "    <tr>\n",
       "      <th>0</th>\n",
       "      <td>2015-09-21</td>\n",
       "      <td>1672</td>\n",
       "      <td>387</td>\n",
       "      <td>47.950001</td>\n",
       "    </tr>\n",
       "    <tr>\n",
       "      <th>1</th>\n",
       "      <td>2015-09-22</td>\n",
       "      <td>1673</td>\n",
       "      <td>387</td>\n",
       "      <td>47.599998</td>\n",
       "    </tr>\n",
       "    <tr>\n",
       "      <th>2</th>\n",
       "      <td>2015-09-23</td>\n",
       "      <td>1676</td>\n",
       "      <td>387</td>\n",
       "      <td>47.700001</td>\n",
       "    </tr>\n",
       "  </tbody>\n",
       "</table>\n",
       "</div>"
      ],
      "text/plain": [
       "        Date  followers_count  employees_on_platform      Close\n",
       "0 2015-09-21             1672                    387  47.950001\n",
       "1 2015-09-22             1673                    387  47.599998\n",
       "2 2015-09-23             1676                    387  47.700001"
      ]
     },
     "execution_count": 13,
     "metadata": {},
     "output_type": "execute_result"
    }
   ],
   "source": [
    "merge_data = compName.merge(stock, left_on='as_of_date', right_on='Date')\n",
    "filteredData = merge_data[['as_of_date', 'followers_count', 'employees_on_platform', 'Close']]\n",
    "filteredData = filteredData.rename(columns={'as_of_date': 'Date'})\n",
    "filteredData.head(3)"
   ]
  },
  {
   "cell_type": "markdown",
   "metadata": {},
   "source": [
    "## Regression analysis"
   ]
  },
  {
   "cell_type": "code",
   "execution_count": 17,
   "metadata": {},
   "outputs": [
    {
     "data": {
      "text/plain": [
       "array([[ 0.0141312 , -0.01802383]])"
      ]
     },
     "execution_count": 17,
     "metadata": {},
     "output_type": "execute_result"
    }
   ],
   "source": [
    "from sklearn.linear_model import LinearRegression\n",
    "from sklearn.model_selection import train_test_split\n",
    "lm = LinearRegression()\n",
    "X = filteredData[['followers_count', 'employees_on_platform']]\n",
    "y = filteredData[['Close']]\n",
    "X_train, X_test, y_train, y_test = train_test_split(X, y, test_size=0.2)\n",
    "model = lm.fit(X_train, y_train)\n",
    "model.coef_"
   ]
  },
  {
   "cell_type": "markdown",
   "metadata": {},
   "source": [
    "#### From the regression analysis we see that the company stocks have a tendency to gain value with an increase in the number of followers. On the contrary, the stocks price will decrease as the number of employees increase. This indirectly hints to the increased costs with an increase in the count of employees."
   ]
  },
  {
   "cell_type": "markdown",
   "metadata": {},
   "source": [
    "## Accuracy"
   ]
  },
  {
   "cell_type": "code",
   "execution_count": 18,
   "metadata": {},
   "outputs": [
    {
     "data": {
      "text/plain": [
       "0.530991792148138"
      ]
     },
     "execution_count": 18,
     "metadata": {},
     "output_type": "execute_result"
    }
   ],
   "source": [
    "model.score(X_test, y_test)"
   ]
  },
  {
   "cell_type": "markdown",
   "metadata": {},
   "source": [
    "#### We can see above an accuracy of 53%. A linear model may not capture full power of data but we selected here for interpretability to show relevant weight of both the coefficients. A feedforward neural-network can prove a better option to explore features within the data."
   ]
  },
  {
   "cell_type": "code",
   "execution_count": null,
   "metadata": {},
   "outputs": [],
   "source": []
  }
 ],
 "metadata": {
  "kernelspec": {
   "display_name": "Python 3",
   "language": "python",
   "name": "python3"
  },
  "language_info": {
   "codemirror_mode": {
    "name": "ipython",
    "version": 3
   },
   "file_extension": ".py",
   "mimetype": "text/x-python",
   "name": "python",
   "nbconvert_exporter": "python",
   "pygments_lexer": "ipython3",
   "version": "3.7.6"
  }
 },
 "nbformat": 4,
 "nbformat_minor": 4
}
